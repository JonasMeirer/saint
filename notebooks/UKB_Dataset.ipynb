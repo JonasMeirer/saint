{
  "cells": [
    {
      "cell_type": "markdown",
      "metadata": {
        "id": "1Sd9FQhDcDhy"
      },
      "source": [
        "# Bank dataset example"
      ]
    },
    {
      "cell_type": "markdown",
      "metadata": {
        "id": "yYLJcIiEOmAm"
      },
      "source": [
        "[![Open In Colab](https://colab.research.google.com/assets/colab-badge.svg)](https://colab.research.google.com/github/ogunlao/saint/blob/main/notebooks/Bank_Dataset.ipynb)"
      ]
    },
    {
      "cell_type": "markdown",
      "metadata": {},
      "source": [
        "This notebook example is made to run seamlessly on colab. You may need to change the paths to run on local."
      ]
    },
    {
      "cell_type": "code",
      "execution_count": 1,
      "metadata": {
        "id": "c5HdUECdhoNU"
      },
      "outputs": [],
      "source": [
        "%load_ext autoreload\n",
        "%autoreload 2"
      ]
    },
    {
      "cell_type": "code",
      "execution_count": null,
      "metadata": {
        "id": "B2gTmeVAcPDR"
      },
      "outputs": [],
      "source": [
        "# clone the repository\n",
        "\n",
        "!git clone https://github.com/ogunlao/saint.git"
      ]
    },
    {
      "cell_type": "code",
      "execution_count": null,
      "metadata": {
        "id": "oc4E8FtdPIGL"
      },
      "outputs": [],
      "source": [
        "!pip install -r saint/requirements.txt"
      ]
    },
    {
      "cell_type": "markdown",
      "metadata": {
        "id": "T3RDW8NIPZqQ"
      },
      "source": [
        "**warning: restart the runtime on Colab**"
      ]
    },
    {
      "cell_type": "markdown",
      "metadata": {
        "id": "8IRukGupmFCq"
      },
      "source": [
        "## General setup configuration parameters from paper"
      ]
    },
    {
      "cell_type": "code",
      "execution_count": 2,
      "metadata": {
        "id": "FE4DnSbOKZJL"
      },
      "outputs": [],
      "source": [
        "import os\n",
        "\n",
        "import torch\n",
        "import pandas as pd\n",
        "import numpy as np"
      ]
    },
    {
      "cell_type": "code",
      "execution_count": 3,
      "metadata": {
        "id": "BqhYRMvvDyHW"
      },
      "outputs": [
        {
          "name": "stdout",
          "output_type": "stream",
          "text": [
            "{'defaults': ['_self_', {'experiment': 'self-supervised'}, {'data': 'bank_ssl'}], 'seed': 1234, 'transformer': {'num_layers': 6, 'num_heads': 8, 'dropout': 0.1, 'dropout_ff': 0.1, 'embed_dim': 32, 'd_ff': 32, 'cls_token_idx': 0}, 'augmentation': {'prob_cutmix': 0.3, 'alpha': 0.2, 'lambda_pt': 10}, 'optimizer': {'temperature': 0.7, 'proj_head_dim': 128, 'beta_1': 0.9, 'beta_2': 0.99, 'lr': 0.0001, 'weight_decay': 0.01, 'optim': 'adamw', 'metric': 'auroc'}, 'preproc': {'data_folder': None, 'train_split': 0.65, 'validation_split': 0.15, 'test_split': 0.2, 'num_supervised_train_data': None}, 'callback': {'monitor': 'val_loss', 'mode': 'min', 'auto_insert_metric_name': False}, 'trainer': {'max_epochs': 100, 'deterministic': True, 'default_root_dir': None}, 'dataloader': {'shuffle_val': False, 'train_bs': 32, 'val_bs': 32, 'test_bs': 16, 'num_workers': 2, 'pin_memory': False}, 'metric': '${optimizer.metric}', 'print_config': False}\n"
          ]
        }
      ],
      "source": [
        "# --- Config Information ---#\n",
        "try:\n",
        "    from ruamel.yaml import YAML\n",
        "except ModuleNotFoundError:\n",
        "    from ruamel_yaml import YAML\n",
        "\n",
        "config_path = 'configs/config.yaml'\n",
        "\n",
        "yaml = YAML(typ='safe')\n",
        "with open(config_path) as f:\n",
        "    args = yaml.load(f)\n",
        "\n",
        "print(args)"
      ]
    },
    {
      "cell_type": "markdown",
      "metadata": {
        "id": "VbRuG5AQHiea"
      },
      "source": [
        "## Dataset preprocessing"
      ]
    },
    {
      "cell_type": "markdown",
      "metadata": {
        "id": "UlBs3LvEdtem"
      },
      "source": [
        "###### Bank dataset [Link](https://archive.ics.uci.edu/ml/datasets/bank+marketing)"
      ]
    },
    {
      "cell_type": "code",
      "execution_count": 4,
      "metadata": {
        "id": "VYu-ZwOG_cFi"
      },
      "outputs": [],
      "source": [
        "data_folder = \"data/ukb_test\""
      ]
    },
    {
      "cell_type": "code",
      "execution_count": 36,
      "metadata": {
        "id": "G7ISY6V8Qs4U"
      },
      "outputs": [
        {
          "data": {
            "text/html": [
              "<div>\n",
              "<style scoped>\n",
              "    .dataframe tbody tr th:only-of-type {\n",
              "        vertical-align: middle;\n",
              "    }\n",
              "\n",
              "    .dataframe tbody tr th {\n",
              "        vertical-align: top;\n",
              "    }\n",
              "\n",
              "    .dataframe thead th {\n",
              "        text-align: right;\n",
              "    }\n",
              "</style>\n",
              "<table border=\"1\" class=\"dataframe\">\n",
              "  <thead>\n",
              "    <tr style=\"text-align: right;\">\n",
              "      <th></th>\n",
              "      <th>protein_0</th>\n",
              "      <th>protein_1</th>\n",
              "      <th>protein_2</th>\n",
              "      <th>protein_3</th>\n",
              "      <th>protein_4</th>\n",
              "      <th>blood_cont_0</th>\n",
              "      <th>blood_cont_1</th>\n",
              "      <th>blood_cont_2</th>\n",
              "      <th>blood_cont_3</th>\n",
              "      <th>blood_cont_4</th>\n",
              "      <th>blood_cat_1</th>\n",
              "      <th>blood_cat_2</th>\n",
              "      <th>lifestyle_cont_0</th>\n",
              "      <th>lifestyle_cont_1</th>\n",
              "      <th>lifestyle_cont_2</th>\n",
              "      <th>lifestyle_cont_3</th>\n",
              "      <th>lifestyle_cont_4</th>\n",
              "      <th>lifestyle_cat_1</th>\n",
              "      <th>lifestyle_cat_2</th>\n",
              "    </tr>\n",
              "    <tr>\n",
              "      <th>eid</th>\n",
              "      <th></th>\n",
              "      <th></th>\n",
              "      <th></th>\n",
              "      <th></th>\n",
              "      <th></th>\n",
              "      <th></th>\n",
              "      <th></th>\n",
              "      <th></th>\n",
              "      <th></th>\n",
              "      <th></th>\n",
              "      <th></th>\n",
              "      <th></th>\n",
              "      <th></th>\n",
              "      <th></th>\n",
              "      <th></th>\n",
              "      <th></th>\n",
              "      <th></th>\n",
              "      <th></th>\n",
              "      <th></th>\n",
              "    </tr>\n",
              "  </thead>\n",
              "  <tbody>\n",
              "    <tr>\n",
              "      <th>sample_341</th>\n",
              "      <td>-0.999947</td>\n",
              "      <td>-0.362368</td>\n",
              "      <td>2.647675</td>\n",
              "      <td>-2.050830</td>\n",
              "      <td>0.695265</td>\n",
              "      <td>-1.503765</td>\n",
              "      <td>0.040051</td>\n",
              "      <td>-0.676371</td>\n",
              "      <td>1.574718</td>\n",
              "      <td>-0.165621</td>\n",
              "      <td>A</td>\n",
              "      <td>Low</td>\n",
              "      <td>-2.504596</td>\n",
              "      <td>-0.260175</td>\n",
              "      <td>-0.606295</td>\n",
              "      <td>-1.146541</td>\n",
              "      <td>-0.136848</td>\n",
              "      <td>L19</td>\n",
              "      <td>No</td>\n",
              "    </tr>\n",
              "    <tr>\n",
              "      <th>sample_358</th>\n",
              "      <td>0.094597</td>\n",
              "      <td>-0.292266</td>\n",
              "      <td>1.068660</td>\n",
              "      <td>-0.785074</td>\n",
              "      <td>-0.178323</td>\n",
              "      <td>-0.075421</td>\n",
              "      <td>0.332536</td>\n",
              "      <td>0.573553</td>\n",
              "      <td>0.167925</td>\n",
              "      <td>0.282252</td>\n",
              "      <td>B</td>\n",
              "      <td>High</td>\n",
              "      <td>-0.427264</td>\n",
              "      <td>1.242474</td>\n",
              "      <td>1.290035</td>\n",
              "      <td>-0.466768</td>\n",
              "      <td>-0.696482</td>\n",
              "      <td>L11</td>\n",
              "      <td>Yes</td>\n",
              "    </tr>\n",
              "    <tr>\n",
              "      <th>sample_564</th>\n",
              "      <td>0.979274</td>\n",
              "      <td>-0.676494</td>\n",
              "      <td>0.502028</td>\n",
              "      <td>0.510853</td>\n",
              "      <td>1.526550</td>\n",
              "      <td>-0.931003</td>\n",
              "      <td>0.820592</td>\n",
              "      <td>0.027506</td>\n",
              "      <td>-1.653179</td>\n",
              "      <td>-0.680078</td>\n",
              "      <td>B</td>\n",
              "      <td>Medium</td>\n",
              "      <td>-0.276156</td>\n",
              "      <td>-1.747656</td>\n",
              "      <td>0.935946</td>\n",
              "      <td>-0.757110</td>\n",
              "      <td>-0.416817</td>\n",
              "      <td>L10</td>\n",
              "      <td>Yes</td>\n",
              "    </tr>\n",
              "    <tr>\n",
              "      <th>sample_965</th>\n",
              "      <td>0.167213</td>\n",
              "      <td>-0.029956</td>\n",
              "      <td>0.821229</td>\n",
              "      <td>-0.910240</td>\n",
              "      <td>-0.179577</td>\n",
              "      <td>0.155020</td>\n",
              "      <td>0.673715</td>\n",
              "      <td>-0.295771</td>\n",
              "      <td>-0.816866</td>\n",
              "      <td>0.524858</td>\n",
              "      <td>A</td>\n",
              "      <td>Low</td>\n",
              "      <td>1.492023</td>\n",
              "      <td>-0.605616</td>\n",
              "      <td>0.503926</td>\n",
              "      <td>1.079585</td>\n",
              "      <td>0.775233</td>\n",
              "      <td>L4</td>\n",
              "      <td>No</td>\n",
              "    </tr>\n",
              "    <tr>\n",
              "      <th>sample_776</th>\n",
              "      <td>0.758431</td>\n",
              "      <td>1.398153</td>\n",
              "      <td>-2.391340</td>\n",
              "      <td>-1.178071</td>\n",
              "      <td>0.488712</td>\n",
              "      <td>0.939588</td>\n",
              "      <td>-0.831314</td>\n",
              "      <td>0.447403</td>\n",
              "      <td>-0.450870</td>\n",
              "      <td>1.144676</td>\n",
              "      <td>A</td>\n",
              "      <td>High</td>\n",
              "      <td>-0.259334</td>\n",
              "      <td>-0.515172</td>\n",
              "      <td>0.145227</td>\n",
              "      <td>-0.416769</td>\n",
              "      <td>1.255462</td>\n",
              "      <td>L3</td>\n",
              "      <td>Unknown</td>\n",
              "    </tr>\n",
              "  </tbody>\n",
              "</table>\n",
              "</div>"
            ],
            "text/plain": [
              "            protein_0  protein_1  protein_2  protein_3  protein_4  \\\n",
              "eid                                                                 \n",
              "sample_341  -0.999947  -0.362368   2.647675  -2.050830   0.695265   \n",
              "sample_358   0.094597  -0.292266   1.068660  -0.785074  -0.178323   \n",
              "sample_564   0.979274  -0.676494   0.502028   0.510853   1.526550   \n",
              "sample_965   0.167213  -0.029956   0.821229  -0.910240  -0.179577   \n",
              "sample_776   0.758431   1.398153  -2.391340  -1.178071   0.488712   \n",
              "\n",
              "            blood_cont_0  blood_cont_1  blood_cont_2  blood_cont_3  \\\n",
              "eid                                                                  \n",
              "sample_341     -1.503765      0.040051     -0.676371      1.574718   \n",
              "sample_358     -0.075421      0.332536      0.573553      0.167925   \n",
              "sample_564     -0.931003      0.820592      0.027506     -1.653179   \n",
              "sample_965      0.155020      0.673715     -0.295771     -0.816866   \n",
              "sample_776      0.939588     -0.831314      0.447403     -0.450870   \n",
              "\n",
              "            blood_cont_4 blood_cat_1 blood_cat_2  lifestyle_cont_0  \\\n",
              "eid                                                                  \n",
              "sample_341     -0.165621           A         Low         -2.504596   \n",
              "sample_358      0.282252           B        High         -0.427264   \n",
              "sample_564     -0.680078           B      Medium         -0.276156   \n",
              "sample_965      0.524858           A         Low          1.492023   \n",
              "sample_776      1.144676           A        High         -0.259334   \n",
              "\n",
              "            lifestyle_cont_1  lifestyle_cont_2  lifestyle_cont_3  \\\n",
              "eid                                                                \n",
              "sample_341         -0.260175         -0.606295         -1.146541   \n",
              "sample_358          1.242474          1.290035         -0.466768   \n",
              "sample_564         -1.747656          0.935946         -0.757110   \n",
              "sample_965         -0.605616          0.503926          1.079585   \n",
              "sample_776         -0.515172          0.145227         -0.416769   \n",
              "\n",
              "            lifestyle_cont_4 lifestyle_cat_1 lifestyle_cat_2  \n",
              "eid                                                           \n",
              "sample_341         -0.136848             L19              No  \n",
              "sample_358         -0.696482             L11             Yes  \n",
              "sample_564         -0.416817             L10             Yes  \n",
              "sample_965          0.775233              L4              No  \n",
              "sample_776          1.255462              L3         Unknown  "
            ]
          },
          "execution_count": 36,
          "metadata": {},
          "output_type": "execute_result"
        }
      ],
      "source": [
        "ukb_df = pd.read_csv(os.path.join(data_folder, 'X.csv'),index_col=\"eid\")\n",
        "y = pd.read_csv(os.path.join(data_folder, 'y.csv'),index_col=\"eid\")\n",
        "y.columns = [\"time\", \"event\"]\n",
        "\n",
        "# if event column is boolean, convert to int\n",
        "if y[\"event\"].dtype == \"bool\":\n",
        "    y[\"event\"] = y[\"event\"].astype(int)\n",
        "\n",
        "ukb_df.head()"
      ]
    },
    {
      "cell_type": "code",
      "execution_count": 37,
      "metadata": {
        "id": "4D5Hkz_e6v5k"
      },
      "outputs": [
        {
          "data": {
            "text/plain": [
              "1000"
            ]
          },
          "execution_count": 37,
          "metadata": {},
          "output_type": "execute_result"
        }
      ],
      "source": [
        "len(y) # Data size should be 45211"
      ]
    },
    {
      "cell_type": "code",
      "execution_count": 38,
      "metadata": {
        "id": "8GrHLAdn63xD"
      },
      "outputs": [
        {
          "data": {
            "text/plain": [
              "time         event\n",
              "3757.996790  1        1\n",
              "0.158492     1        1\n",
              "1.039157     0        1\n",
              "1.687757     1        1\n",
              "4.592309     1        1\n",
              "                     ..\n",
              "9.679507     0        1\n",
              "9.801794     0        1\n",
              "9.977149     1        1\n",
              "10.586484    0        1\n",
              "11.333060    1        1\n",
              "Name: count, Length: 1000, dtype: int64"
            ]
          },
          "execution_count": 38,
          "metadata": {},
          "output_type": "execute_result"
        }
      ],
      "source": [
        "y.value_counts() # Data is imbalanced, will require some balanced sampling"
      ]
    },
    {
      "cell_type": "code",
      "execution_count": 39,
      "metadata": {
        "id": "H_SwEm3TY9jE"
      },
      "outputs": [
        {
          "data": {
            "text/plain": [
              "protein_0           0\n",
              "protein_1           0\n",
              "protein_2           0\n",
              "protein_3           0\n",
              "protein_4           0\n",
              "blood_cont_0        0\n",
              "blood_cont_1        0\n",
              "blood_cont_2        0\n",
              "blood_cont_3        0\n",
              "blood_cont_4        0\n",
              "blood_cat_1         0\n",
              "blood_cat_2         0\n",
              "lifestyle_cont_0    0\n",
              "lifestyle_cont_1    0\n",
              "lifestyle_cont_2    0\n",
              "lifestyle_cont_3    0\n",
              "lifestyle_cont_4    0\n",
              "lifestyle_cat_1     0\n",
              "lifestyle_cat_2     0\n",
              "dtype: int64"
            ]
          },
          "execution_count": 39,
          "metadata": {},
          "output_type": "execute_result"
        }
      ],
      "source": [
        "# check if there are any missing values\n",
        "ukb_df.isna().sum()"
      ]
    },
    {
      "cell_type": "code",
      "execution_count": 40,
      "metadata": {
        "id": "zprDn2XVfKi9"
      },
      "outputs": [],
      "source": [
        "from src.dataset import generate_splits, preprocess"
      ]
    },
    {
      "cell_type": "code",
      "execution_count": 41,
      "metadata": {
        "id": "dOZzomB47wYI"
      },
      "outputs": [],
      "source": [
        "# separate 200 samples for supervised training, all others are used in ssl training\n",
        "num_supervised_train_data = \"all\" #200 \n",
        "\n",
        "# get split indices\n",
        "sup_train_indices, val_indices, test_indices, ssl_train_indices = generate_splits(len(ukb_df), \n",
        "                                                                            num_supervised_train_data,\n",
        "                                                                            args['preproc']['validation_split'],\n",
        "                                                                            args['preproc']['test_split'],\n",
        "                                                                            args['seed'],)"
      ]
    },
    {
      "cell_type": "code",
      "execution_count": 42,
      "metadata": {
        "id": "sHk_9Ly4ftB0"
      },
      "outputs": [],
      "source": [
        "df_proc, y_proc, no_num, no_cat, cats  = preprocess(ukb_df, y, args['transformer']['cls_token_idx'], survival_format=True)"
      ]
    },
    {
      "cell_type": "code",
      "execution_count": 43,
      "metadata": {
        "id": "OAHTOyfQjIN-"
      },
      "outputs": [
        {
          "name": "stdout",
          "output_type": "stream",
          "text": [
            "no of numerical columns:  15\n",
            "no of categorical columns:  5\n",
            "list of categories in each categorical column:  [1, 4, 3, 20, 3]\n"
          ]
        }
      ],
      "source": [
        "# This variables will need to be added to the config files in \"configs/data/bank_*\" before training\n",
        "\n",
        "print('no of numerical columns: ', no_num)\n",
        "print('no of categorical columns: ', no_cat)\n",
        "\n",
        "print('list of categories in each categorical column: ', cats)"
      ]
    },
    {
      "cell_type": "code",
      "execution_count": 44,
      "metadata": {
        "id": "8fxrzdv3gH19"
      },
      "outputs": [],
      "source": [
        "#### args.num_features = args.no_num + args.no_cat\n",
        "\n",
        "# split data into train, val and test using generated indices\n",
        "\n",
        "train_df, train_y   = df_proc.iloc[sup_train_indices], y_proc.iloc[sup_train_indices]\n",
        "val_df, val_y       = df_proc.iloc[val_indices], y_proc.iloc[val_indices]\n",
        "test_df, test_y     = df_proc.iloc[test_indices], y_proc.iloc[test_indices]"
      ]
    },
    {
      "cell_type": "code",
      "execution_count": 45,
      "metadata": {
        "id": "rPgAlDJylX0Z"
      },
      "outputs": [],
      "source": [
        "# Generate data for self-supervised training if specified\n",
        "\n",
        "train_ssl, train_ssl_y = None, None\n",
        "\n",
        "if num_supervised_train_data != 'all':\n",
        "    train_ssl, train_ssl_y = df_proc.iloc[ssl_train_indices], y_proc.iloc[ssl_train_indices]"
      ]
    },
    {
      "cell_type": "code",
      "execution_count": 46,
      "metadata": {
        "id": "Jobqrdnbg8vt"
      },
      "outputs": [],
      "source": [
        "# save dataframes in the data directory\n",
        "\n",
        "train_df.to_csv('data/train.csv' , index=False)\n",
        "train_y.to_csv('data/train_y.csv' , index=False)\n",
        "val_df.to_csv('data/val.csv' , index=False)\n",
        "val_y.to_csv('data/val_y.csv' , index=False)\n",
        "test_df.to_csv('data/test.csv' , index=False)\n",
        "test_y.to_csv('data/test_y.csv' , index=False)\n",
        "\n",
        "if train_ssl is not None:\n",
        "    train_ssl.to_csv('data/train_ssl.csv' , index=False)\n",
        "\n",
        "if train_ssl_y is not None:\n",
        "    train_ssl_y.to_csv('data/train_ssl_y.csv' , index=False)"
      ]
    },
    {
      "cell_type": "markdown",
      "metadata": {
        "id": "upyx0DxZTDTK"
      },
      "source": [
        "### Self-supervised training"
      ]
    },
    {
      "cell_type": "code",
      "execution_count": 21,
      "metadata": {},
      "outputs": [],
      "source": [
        "# give the number of gpus available if any\n",
        "num_gpus = 1"
      ]
    },
    {
      "cell_type": "code",
      "execution_count": null,
      "metadata": {
        "id": "nOOsb2wrnFKK"
      },
      "outputs": [],
      "source": [
        "# Train saint model in self-supervised settings. \n",
        "# To use gpus, add trainer.gpus=1 where \"1\" is the total no of gpus to the command\n",
        "\n",
        "!python saint/main.py experiment=self-supervised \\\n",
        "    experiment.model=saint \\\n",
        "    data.data_folder=/content/saint/data \\\n",
        "    data=bank_ssl"
      ]
    },
    {
      "cell_type": "code",
      "execution_count": null,
      "metadata": {
        "id": "es1Kf9134tGG"
      },
      "outputs": [],
      "source": [
        "# Retrieve the location of self-supervised pretrained model from logs\n",
        "\n",
        "# for example\n",
        "best_ssl_model_ckpt = \"/content/outputs/2021-11-01/10-09-16/lightning_logs/version_0/checkpoints/0-916.ckpt\""
      ]
    },
    {
      "cell_type": "code",
      "execution_count": 25,
      "metadata": {
        "id": "FcZFRnjU5zwY"
      },
      "outputs": [
        {
          "name": "stdout",
          "output_type": "stream",
          "text": [
            "/opt/conda/lib/python3.10/site-packages/torch/cuda/__init__.py:619: UserWarning: Can't initialize NVML\n",
            "  warnings.warn(\"Can't initialize NVML\")\n",
            "/workspaces/saint/main.py:37: UserWarning: \n",
            "The version_base parameter is not specified.\n",
            "Please specify a compatability version level, or None.\n",
            "Will assume defaults for version 1.1\n",
            "  @hydra.main(config_path=\"configs\", config_name=\"config\")\n",
            "no viable alternative at input '{best_ssl_model_ckpt}'\n",
            "See https://hydra.cc/docs/1.2/advanced/override_grammar/basic for details\n",
            "\n",
            "Set the environment variable HYDRA_FULL_ERROR=1 for a complete stack trace.\n"
          ]
        }
      ],
      "source": [
        "# Train a supervised model initialized from the ssl model\n",
        "\n",
        "!python main.py experiment=supervised \\\n",
        "    experiment.model=saint \\\n",
        "    data.data_folder=/content/saint/data \\\n",
        "    data=bank_sup \\\n",
        "    experiment.pretrained_checkpoint={best_ssl_model_ckpt}\n"
      ]
    },
    {
      "cell_type": "code",
      "execution_count": 35,
      "metadata": {
        "id": "yTqo6kmoAC2i"
      },
      "outputs": [
        {
          "name": "stdout",
          "output_type": "stream",
          "text": [
            "/opt/conda/lib/python3.10/site-packages/torch/cuda/__init__.py:619: UserWarning: Can't initialize NVML\n",
            "  warnings.warn(\"Can't initialize NVML\")\n",
            "Traceback (most recent call last):\n",
            "  File \"/workspaces/saint/main.py\", line 7, in <module>\n",
            "    from src.train import setup_experiment\n",
            "  File \"/workspaces/saint/src/train.py\", line 5, in <module>\n",
            "    from src.trainer import SaintSemiSupLightningModule, SaintSupLightningModule\n",
            "  File \"/workspaces/saint/src/trainer.py\", line 6, in <module>\n",
            "    from torchsurv.loss.cox import neg_partial_log_likelihood\n",
            "ModuleNotFoundError: No module named 'torchsurv'\n"
          ]
        }
      ],
      "source": [
        "# You can also train a supervised model without initializing with a pretrained model i.e. randomly initialized\n",
        "\n",
        "!python main.py experiment=supervised \\\n",
        "    experiment.model=saint \\\n",
        "    data.data_folder=/workspaces/saint/data \\\n",
        "    data=bank_sup"
      ]
    },
    {
      "cell_type": "code",
      "execution_count": null,
      "metadata": {
        "id": "UTVtMFAnADTx"
      },
      "outputs": [],
      "source": [
        "# To predict on a test dataset  # check saint/experiment/predict for params\n",
        "\n",
        "pretrained_checkpoint = \"/content/outputs/2021-11-01/13-30-49/lightning_logs/version_0/checkpoints/2-20.ckpt\"\n",
        "\n",
        "!python saint/predict.py experiment=predict \\\n",
        "    experiment.model=saint \\\n",
        "    data=bank_sup \\\n",
        "    data.data_folder=/content/saint/data \\\n",
        "    experiment.pretrained_checkpoint={pretrained_checkpoint} \\\n",
        "    experiment.pred_sav_path=/content/predict.csv"
      ]
    },
    {
      "cell_type": "markdown",
      "metadata": {
        "id": "gI59qOEYIJii"
      },
      "source": [
        "## View Tensorboard"
      ]
    },
    {
      "cell_type": "code",
      "execution_count": null,
      "metadata": {
        "id": "wzdymWiKC3EF"
      },
      "outputs": [],
      "source": [
        "# View plots and hyperparameters\n",
        "\n",
        "%load_ext tensorboard\n",
        "%tensorboard --logdir /content/outputs/2021-11-01/10-14-14/lightning_logs # change lightning log path"
      ]
    },
    {
      "cell_type": "markdown",
      "metadata": {
        "id": "tDWTM2j-6K1m"
      },
      "source": [
        "## The End"
      ]
    }
  ],
  "metadata": {
    "accelerator": "GPU",
    "colab": {
      "collapsed_sections": [],
      "name": "Bank_Dataset.ipynb",
      "provenance": []
    },
    "kernelspec": {
      "display_name": "base",
      "language": "python",
      "name": "python3"
    },
    "language_info": {
      "codemirror_mode": {
        "name": "ipython",
        "version": 3
      },
      "file_extension": ".py",
      "mimetype": "text/x-python",
      "name": "python",
      "nbconvert_exporter": "python",
      "pygments_lexer": "ipython3",
      "version": "3.10.14"
    }
  },
  "nbformat": 4,
  "nbformat_minor": 0
}
